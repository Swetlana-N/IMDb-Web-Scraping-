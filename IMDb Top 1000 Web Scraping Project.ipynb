{
 "cells": [
  {
   "cell_type": "markdown",
   "metadata": {},
   "source": [
    "## IMDb \"Top 1000\"\n",
    "###### A web scraping project using BeautifulSoup and python"
   ]
  },
  {
   "cell_type": "code",
   "execution_count": 1,
   "metadata": {},
   "outputs": [],
   "source": [
    "#Import libraries\n",
    "import pandas as pd\n",
    "import numpy as np\n",
    "import requests\n",
    "from bs4 import BeautifulSoup\n",
    "from time import sleep\n",
    "from random import randint"
   ]
  },
  {
   "cell_type": "code",
   "execution_count": 2,
   "metadata": {},
   "outputs": [],
   "source": [
    "movie_name = []\n",
    "description = []\n",
    "genre = []\n",
    "release_date = []\n",
    "duration = []\n",
    "rating = []\n",
    "metascore = []\n",
    "votes = []\n",
    "gross = []"
   ]
  },
  {
   "cell_type": "code",
   "execution_count": 3,
   "metadata": {},
   "outputs": [],
   "source": [
    "pages = np.arange(1,1000,50)\n",
    "\n",
    "for page in pages:\n",
    "    page = requests.get(\"https://www.imdb.com/search/title/?groups=top_1000&start=\"+str(page)+\"&ref_=adv_nxt\")\n",
    "    soup = BeautifulSoup(page.text, 'html.parser')\n",
    "    movie_data = soup.findAll('div', attrs = {'class': 'lister-item mode-advanced'})\n",
    "    sleep(randint(2,8))\n",
    "    \n",
    "    for store in movie_data:\n",
    "        name = store.h3.a.text\n",
    "        movie_name.append(name)\n",
    "        \n",
    "        describe = store.find_all('p', class_ = 'text-muted')\n",
    "        description_ = describe[1].text.replace('\\n','') if len(describe)>1 else 'N/A'\n",
    "        description.append(description_)\n",
    "        \n",
    "        genr = store.p.find('span', class_ = 'genre').text.replace('\\n','')\n",
    "        genre.append(genr)\n",
    "        \n",
    "        year_of_release = store.h3.find('span', class_ = 'lister-item-year text-muted unbold').text\n",
    "        release_date.append(year_of_release)\n",
    "        \n",
    "        runtime = store.p.find('span', class_ = 'runtime').text\n",
    "        duration.append(runtime)\n",
    "        \n",
    "        rate = store.find('div', class_= 'inline-block ratings-imdb-rating').text.replace('\\n','')\n",
    "        rating.append(rate)\n",
    "        \n",
    "        meta = store.find('span', class_ = 'metascore').text if store.find('span', class_ = 'metascore') else \"N/A\"\n",
    "        metascore.append(meta)\n",
    "        \n",
    "        value = store.find_all('span', attrs = {'name': \"nv\"})\n",
    "        \n",
    "        vote = value[0].text\n",
    "        votes.append(vote)"
   ]
  },
  {
   "cell_type": "code",
   "execution_count": 4,
   "metadata": {},
   "outputs": [],
   "source": [
    "#create a dataframe\n",
    "\n",
    "movie_list = pd.DataFrame({\"Movie Title\": movie_name,  \"Year of Release\": release_date, \"Genre\":genre, \n",
    "                           \"Runtime\": duration, \"Rating\":rating, \"Metascore\":metascore,\n",
    "                           \"Votes\":votes, \"Description\": description})"
   ]
  },
  {
   "cell_type": "code",
   "execution_count": 6,
   "metadata": {},
   "outputs": [
    {
     "data": {
      "text/html": [
       "<div>\n",
       "<style scoped>\n",
       "    .dataframe tbody tr th:only-of-type {\n",
       "        vertical-align: middle;\n",
       "    }\n",
       "\n",
       "    .dataframe tbody tr th {\n",
       "        vertical-align: top;\n",
       "    }\n",
       "\n",
       "    .dataframe thead th {\n",
       "        text-align: right;\n",
       "    }\n",
       "</style>\n",
       "<table border=\"1\" class=\"dataframe\">\n",
       "  <thead>\n",
       "    <tr style=\"text-align: right;\">\n",
       "      <th></th>\n",
       "      <th>Movie Title</th>\n",
       "      <th>Year of Release</th>\n",
       "      <th>Genre</th>\n",
       "      <th>Runtime</th>\n",
       "      <th>Rating</th>\n",
       "      <th>Metascore</th>\n",
       "      <th>Votes</th>\n",
       "      <th>Description</th>\n",
       "    </tr>\n",
       "  </thead>\n",
       "  <tbody>\n",
       "    <tr>\n",
       "      <th>0</th>\n",
       "      <td>Top Gun: Maverick</td>\n",
       "      <td>(2022)</td>\n",
       "      <td>Action, Drama</td>\n",
       "      <td>130 min</td>\n",
       "      <td>8.4</td>\n",
       "      <td>78</td>\n",
       "      <td>371,822</td>\n",
       "      <td>After thirty years, Maverick is still pushing ...</td>\n",
       "    </tr>\n",
       "    <tr>\n",
       "      <th>1</th>\n",
       "      <td>Everything Everywhere All at Once</td>\n",
       "      <td>(2022)</td>\n",
       "      <td>Action, Adventure, Comedy</td>\n",
       "      <td>139 min</td>\n",
       "      <td>8.1</td>\n",
       "      <td>81</td>\n",
       "      <td>206,231</td>\n",
       "      <td>An aging Chinese immigrant is swept up in an i...</td>\n",
       "    </tr>\n",
       "    <tr>\n",
       "      <th>2</th>\n",
       "      <td>The Lord of the Rings: The Fellowship of the Ring</td>\n",
       "      <td>(2001)</td>\n",
       "      <td>Action, Adventure, Drama</td>\n",
       "      <td>178 min</td>\n",
       "      <td>8.8</td>\n",
       "      <td>92</td>\n",
       "      <td>1,843,658</td>\n",
       "      <td>A meek Hobbit from the Shire and eight compani...</td>\n",
       "    </tr>\n",
       "    <tr>\n",
       "      <th>3</th>\n",
       "      <td>The Batman</td>\n",
       "      <td>(2022)</td>\n",
       "      <td>Action, Crime, Drama</td>\n",
       "      <td>176 min</td>\n",
       "      <td>7.9</td>\n",
       "      <td>72</td>\n",
       "      <td>597,005</td>\n",
       "      <td>When a sadistic serial killer begins murdering...</td>\n",
       "    </tr>\n",
       "    <tr>\n",
       "      <th>4</th>\n",
       "      <td>Spider-Man: No Way Home</td>\n",
       "      <td>(2021)</td>\n",
       "      <td>Action, Adventure, Fantasy</td>\n",
       "      <td>148 min</td>\n",
       "      <td>8.3</td>\n",
       "      <td>71</td>\n",
       "      <td>726,808</td>\n",
       "      <td>With Spider-Man's identity now revealed, Peter...</td>\n",
       "    </tr>\n",
       "  </tbody>\n",
       "</table>\n",
       "</div>"
      ],
      "text/plain": [
       "                                         Movie Title Year of Release  \\\n",
       "0                                  Top Gun: Maverick          (2022)   \n",
       "1                  Everything Everywhere All at Once          (2022)   \n",
       "2  The Lord of the Rings: The Fellowship of the Ring          (2001)   \n",
       "3                                         The Batman          (2022)   \n",
       "4                            Spider-Man: No Way Home          (2021)   \n",
       "\n",
       "                                    Genre  Runtime Rating   Metascore  \\\n",
       "0               Action, Drama              130 min    8.4  78           \n",
       "1   Action, Adventure, Comedy              139 min    8.1  81           \n",
       "2    Action, Adventure, Drama              178 min    8.8  92           \n",
       "3        Action, Crime, Drama              176 min    7.9  72           \n",
       "4  Action, Adventure, Fantasy              148 min    8.3  71           \n",
       "\n",
       "       Votes                                        Description  \n",
       "0    371,822  After thirty years, Maverick is still pushing ...  \n",
       "1    206,231  An aging Chinese immigrant is swept up in an i...  \n",
       "2  1,843,658  A meek Hobbit from the Shire and eight compani...  \n",
       "3    597,005  When a sadistic serial killer begins murdering...  \n",
       "4    726,808  With Spider-Man's identity now revealed, Peter...  "
      ]
     },
     "execution_count": 6,
     "metadata": {},
     "output_type": "execute_result"
    }
   ],
   "source": [
    "movie_list.head(5)"
   ]
  },
  {
   "cell_type": "code",
   "execution_count": null,
   "metadata": {},
   "outputs": [],
   "source": []
  },
  {
   "cell_type": "code",
   "execution_count": null,
   "metadata": {},
   "outputs": [],
   "source": []
  },
  {
   "cell_type": "code",
   "execution_count": null,
   "metadata": {},
   "outputs": [],
   "source": []
  },
  {
   "cell_type": "code",
   "execution_count": null,
   "metadata": {},
   "outputs": [],
   "source": []
  },
  {
   "cell_type": "code",
   "execution_count": null,
   "metadata": {},
   "outputs": [],
   "source": []
  },
  {
   "cell_type": "code",
   "execution_count": null,
   "metadata": {},
   "outputs": [],
   "source": []
  },
  {
   "cell_type": "code",
   "execution_count": null,
   "metadata": {},
   "outputs": [],
   "source": []
  }
 ],
 "metadata": {
  "kernelspec": {
   "display_name": "Python 3",
   "language": "python",
   "name": "python3"
  },
  "language_info": {
   "codemirror_mode": {
    "name": "ipython",
    "version": 3
   },
   "file_extension": ".py",
   "mimetype": "text/x-python",
   "name": "python",
   "nbconvert_exporter": "python",
   "pygments_lexer": "ipython3",
   "version": "3.8.5"
  }
 },
 "nbformat": 4,
 "nbformat_minor": 4
}
